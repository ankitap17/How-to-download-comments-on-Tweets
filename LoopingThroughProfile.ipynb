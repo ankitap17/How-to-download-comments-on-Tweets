{
 "cells": [
  {
   "cell_type": "code",
   "execution_count": 3,
   "metadata": {},
   "outputs": [
    {
     "name": "stdout",
     "output_type": "stream",
     "text": [
      "Keys loading..\n",
      "Authentication Done!!\n"
     ]
    }
   ],
   "source": [
    "#Extracting comments of particular tweet \n",
    "import tweepy\n",
    "from tweepy import OAuthHandler\n",
    " \n",
    "consumer_key = 'XMnKMbzTXwYiF9iDatoNEyvwX'\n",
    "consumer_secret = 'Gp1SY3gRbZsdwCiMZIViTAPi0IICEkrng0jkyzSg8JkqwQto9V'\n",
    "\n",
    "access_token = '837187591602462721-wmR4YooHxSvsf6Oipz1Xz252USbp5Yt'\n",
    "access_secret = 'QPKYu1jTW3kOWdyl4oCNoIbqByKqZcOAqqm6X3jMKmATz'\n",
    "print(\"Keys loading..\") \n",
    "auth = OAuthHandler(consumer_key, consumer_secret)\n",
    "auth.set_access_token(access_token, access_secret)\n",
    " \n",
    "api = tweepy.API(auth)\n",
    "print(\"Authentication Done!!\")\n",
    "\n",
    "#Error handling\n",
    "if (not api):\n",
    "    print (\"Problem connecting to API\")\n",
    "    \n",
    "#To handle json data\n",
    "import simplejson as json\n"
   ]
  },
  {
   "cell_type": "code",
   "execution_count": 4,
   "metadata": {
    "collapsed": true
   },
   "outputs": [],
   "source": [
    "from bs4 import BeautifulSoup\n",
    "import requests\n",
    "import pandas as pd"
   ]
  },
  {
   "cell_type": "code",
   "execution_count": 5,
   "metadata": {},
   "outputs": [],
   "source": [
    "#main code for tweets\n",
    "alltweets=[]\n",
    "#make initial request for most recent tweets (200 is the maximum allowed count)\n",
    "new_tweets = api.user_timeline(screen_name = '@BitPay', count=2)\n",
    "user='BitPay'\n",
    "#save most recent tweets\n",
    "alltweets.extend(new_tweets)\n",
    "\n",
    "#collect required twitter ids\n",
    "ids=[]\n",
    "\n",
    "for subtweets in alltweets:\n",
    "    subtwt=subtweets._json\n",
    "    ids.append(subtwt['id_str'])"
   ]
  },
  {
   "cell_type": "code",
   "execution_count": 7,
   "metadata": {},
   "outputs": [],
   "source": [
    "#Iterrate through all ids\n",
    "dict={}\n",
    "\n",
    "for id in ids:\n",
    "    url_id= id\n",
    "    url = 'https://twitter.com/'+user+'/status/'+url_id\n",
    "    r=requests.get(url)\n",
    "    \n",
    "    html_doc = r.text\n",
    "    soup=  BeautifulSoup(html_doc, \"lxml\")\n",
    "    \n",
    "    dataset = soup.find_all(\"p\", {\"class\": ['TweetTextSize', 'js-tweet-text', 'tweet-text']})\n",
    "    \n",
    "    i=1\n",
    "    for data in dataset:\n",
    "    \n",
    "        #print(data['data-item-id'])\n",
    "        d.append(data.text)\n",
    "        i+=1\n",
    "    dict[url_id]=d\n",
    "\n",
    "        \n",
    "print(dict)\n",
    "    "
   ]
  },
  {
   "cell_type": "code",
   "execution_count": 11,
   "metadata": {},
   "outputs": [
    {
     "ename": "TypeError",
     "evalue": "__init__() got an unexpected keyword argument 'flatten_dicts'",
     "output_type": "error",
     "traceback": [
      "\u001b[1;31m---------------------------------------------------------------------------\u001b[0m",
      "\u001b[1;31mTypeError\u001b[0m                                 Traceback (most recent call last)",
      "\u001b[1;32m<ipython-input-11-119defb581e5>\u001b[0m in \u001b[0;36m<module>\u001b[1;34m()\u001b[0m\n\u001b[0;32m      1\u001b[0m \u001b[1;31m#ictconvert Nonetaframe\u001b[0m\u001b[1;33m\u001b[0m\u001b[1;33m\u001b[0m\u001b[0m\n\u001b[1;32m----> 2\u001b[1;33m \u001b[0mdf\u001b[0m \u001b[1;33m=\u001b[0m \u001b[0mpd\u001b[0m\u001b[1;33m.\u001b[0m\u001b[0mDataFrame\u001b[0m\u001b[1;33m(\u001b[0m\u001b[0mdata\u001b[0m\u001b[1;33m=\u001b[0m\u001b[0mdict\u001b[0m\u001b[1;33m,\u001b[0m\u001b[0mflatten_dicts\u001b[0m\u001b[1;33m=\u001b[0m\u001b[1;32mTrue\u001b[0m\u001b[1;33m)\u001b[0m\u001b[1;33m\u001b[0m\u001b[0m\n\u001b[0m\u001b[0;32m      3\u001b[0m \u001b[0mdf\u001b[0m\u001b[1;33m.\u001b[0m\u001b[0mhead\u001b[0m\u001b[1;33m(\u001b[0m\u001b[1;36m5\u001b[0m\u001b[1;33m)\u001b[0m\u001b[1;33m\u001b[0m\u001b[0m\n",
      "\u001b[1;31mTypeError\u001b[0m: __init__() got an unexpected keyword argument 'flatten_dicts'"
     ]
    }
   ],
   "source": [
    "#ictconvert Nonetaframe\n",
    "df = pd.DataFrame(data=dict,flatten_dicts=True)\n",
    "df.head(5)"
   ]
  }
 ],
 "metadata": {
  "kernelspec": {
   "display_name": "Python 3",
   "language": "python",
   "name": "python3"
  },
  "language_info": {
   "codemirror_mode": {
    "name": "ipython",
    "version": 3
   },
   "file_extension": ".py",
   "mimetype": "text/x-python",
   "name": "python",
   "nbconvert_exporter": "python",
   "pygments_lexer": "ipython3",
   "version": "3.6.1"
  }
 },
 "nbformat": 4,
 "nbformat_minor": 2
}
